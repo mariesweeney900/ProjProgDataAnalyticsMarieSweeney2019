{
 "cells": [
  {
   "cell_type": "code",
   "execution_count": 68,
   "metadata": {},
   "outputs": [],
   "source": [
    "import numpy as np\n",
    "import pandas as pd \n",
    "import seaborn as sns\n",
    "import matplotlib.pyplot as plt\n",
    "import scipy.stats as stats\n"
   ]
  },
  {
   "cell_type": "markdown",
   "metadata": {},
   "source": [
    "124,404 babies were assessed for the purpose for the study over a timeframe of 15 years. Congenital hypothyroidism occurs in  \n",
    "1:2759 live births with a female to male ratio of occurrance at 1.8:1. The main etiologies of CH are dyshormonogenesis (17%), athyreosis (45%) and by thyroid ectopia (24%). The mean age for the commencement of treatment of infants diagnosed in the screening program was 10.3 days.\n"
   ]
  },
  {
   "cell_type": "markdown",
   "metadata": {},
   "source": [
    "# Gender\n"
   ]
  },
  {
   "cell_type": "code",
   "execution_count": 69,
   "metadata": {},
   "outputs": [
    {
     "name": "stdout",
     "output_type": "stream",
     "text": [
      "['M' 'F' 'F' 'M' 'F' 'F' 'F' 'M' 'F' 'F' 'M' 'M' 'F' 'F' 'M' 'F' 'M' 'F'\n",
      " 'M' 'M' 'F' 'F' 'F' 'M' 'F' 'F' 'F' 'F' 'F' 'F' 'M' 'F' 'M' 'F' 'F' 'F'\n",
      " 'F' 'M' 'F' 'F' 'F' 'M' 'F' 'M' 'F' 'M' 'F' 'M' 'F' 'F' 'F' 'F' 'M' 'F'\n",
      " 'F' 'M' 'M' 'F' 'M' 'F' 'F' 'M' 'F' 'F' 'F' 'F' 'F' 'F' 'F' 'M' 'F' 'F'\n",
      " 'F' 'F' 'F' 'F' 'M' 'M' 'M' 'F' 'F' 'F' 'F' 'F' 'F' 'F' 'F' 'F' 'F' 'F'\n",
      " 'F' 'F' 'F' 'M' 'F' 'F' 'M' 'F' 'F' 'F']\n"
     ]
    }
   ],
   "source": [
    "#Gender of the ratio of females to males with CH in the study had an incidence of 2:1 meaning that as a female, one's probablity of having CH is twice that of a male. Adapted from https://dziganto.github.io/data%20science/eda/machine%20learning/python/simulated%20data/Simulated-Datasets-for-Faster-ML-Understanding/\n",
    "\n",
    "\n",
    "# reproducibility\n",
    "np.random.seed(10)\n",
    "\n",
    "# number\n",
    "num = 100\n",
    "\n",
    "# feature setup\n",
    "\n",
    "gender = np.random.choice(['F', 'M'], num, p=[0.67, 0.33])\n",
    "print (gender)\n"
   ]
  },
  {
   "cell_type": "code",
   "execution_count": 70,
   "metadata": {},
   "outputs": [
    {
     "data": {
      "text/plain": [
       "<matplotlib.axes._subplots.AxesSubplot at 0x26702cae438>"
      ]
     },
     "execution_count": 70,
     "metadata": {},
     "output_type": "execute_result"
    },
    {
     "data": {
      "image/png": "[encoded data removed]",
      "text/plain": [
       "<Figure size 432x288 with 1 Axes>"
      ]
     },
     "metadata": {
      "needs_background": "light"
     },
     "output_type": "display_data"
    }
   ],
   "source": [
    "sns.swarmplot(gender, color=\"blue\")"
   ]
  },
  {
   "cell_type": "markdown",
   "metadata": {},
   "source": [
    "# Live Births"
   ]
  },
  {
   "cell_type": "code",
   "execution_count": 71,
   "metadata": {},
   "outputs": [
    {
     "name": "stdout",
     "output_type": "stream",
     "text": [
      "['NCH' 'NCH' 'NCH' 'NCH' 'NCH' 'NCH' 'NCH' 'NCH' 'NCH' 'NCH' 'NCH' 'NCH'\n",
      " 'NCH' 'NCH' 'NCH' 'NCH' 'NCH' 'NCH' 'NCH' 'NCH' 'NCH' 'NCH' 'NCH' 'NCH'\n",
      " 'NCH' 'NCH' 'NCH' 'NCH' 'NCH' 'NCH' 'NCH' 'NCH' 'NCH' 'NCH' 'NCH' 'NCH'\n",
      " 'NCH' 'NCH' 'NCH' 'NCH' 'NCH' 'NCH' 'NCH' 'NCH' 'NCH' 'NCH' 'NCH' 'NCH'\n",
      " 'NCH' 'NCH' 'NCH' 'NCH' 'NCH' 'NCH' 'NCH' 'NCH' 'NCH' 'NCH' 'NCH' 'NCH'\n",
      " 'NCH' 'NCH' 'NCH' 'NCH' 'NCH' 'NCH' 'NCH' 'NCH' 'NCH' 'NCH' 'NCH' 'NCH'\n",
      " 'NCH' 'NCH' 'NCH' 'NCH' 'NCH' 'NCH' 'NCH' 'NCH' 'NCH' 'NCH' 'NCH' 'NCH'\n",
      " 'NCH' 'NCH' 'NCH' 'NCH' 'NCH' 'NCH' 'NCH' 'NCH' 'NCH' 'NCH' 'NCH' 'NCH'\n",
      " 'NCH' 'NCH' 'NCH' 'NCH']\n"
     ]
    }
   ],
   "source": [
    "#Incidence of Live Births according to the study is 1:2759, meaning that for every one birth of a child with CH, a child without CH is born. \n",
    "\n",
    "# reproducibility\n",
    "np.random.seed(10)\n",
    "num = 100   \n",
    "livebirth = np.random.choice(['CH', 'NCH'], num, p=[0.00036, 0.99964])   \n",
    "print (livebirth)"
   ]
  },
  {
   "cell_type": "code",
   "execution_count": 72,
   "metadata": {},
   "outputs": [
    {
     "data": {
      "text/plain": [
       "<matplotlib.axes._subplots.AxesSubplot at 0x26702cfe780>"
      ]
     },
     "execution_count": 72,
     "metadata": {},
     "output_type": "execute_result"
    },
    {
     "data": {
      "image/png": "[encoded data removed]",
      "text/plain": [
       "<Figure size 432x288 with 1 Axes>"
      ]
     },
     "metadata": {
      "needs_background": "light"
     },
     "output_type": "display_data"
    }
   ],
   "source": [
    "#A swarmplot of livebirth number according to the study\n",
    "sns.swarmplot(livebirth, color=\"blue\")"
   ]
  },
  {
   "cell_type": "markdown",
   "metadata": {},
   "source": [
    "# Etiologies"
   ]
  },
  {
   "cell_type": "code",
   "execution_count": 73,
   "metadata": {},
   "outputs": [
    {
     "name": "stdout",
     "output_type": "stream",
     "text": [
      "['A' 'E' 'D' 'A' 'D' 'E' 'E' 'A' 'E' 'E' 'D' 'A' 'E' 'D' 'A' 'D' 'A' 'E'\n",
      " 'A' 'A' 'D' 'E' 'E' 'D' 'E' 'E' 'D' 'D' 'D' 'D' 'A' 'D' 'A' 'E' 'E' 'E'\n",
      " 'E' 'A' 'E' 'D' 'D' 'A' 'E' 'A' 'E' 'A' 'E' 'A' 'E' 'E' 'E' 'E' 'A' 'E'\n",
      " 'E' 'A' 'A' 'D' 'A' 'E' 'D' 'A' 'D' 'D' 'E' 'E' 'E' 'E' 'E' 'A' 'E' 'E'\n",
      " 'E' 'D' 'E' 'E' 'A' 'A' 'A' 'E' 'D' 'D' 'D' 'E' 'E' 'E' 'E' 'E' 'D' 'D'\n",
      " 'D' 'E' 'E' 'A' 'E' 'D' 'A' 'E' 'E' 'D']\n"
     ]
    }
   ],
   "source": [
    "#The main causations of Congenital Hyothyroidism in the study are Ectopia 45%, Dyshormonogenesis 24% and Athyreosis 31%\n",
    "\n",
    "# reproducibility\n",
    "np.random.seed(10)\n",
    "num = 100  \n",
    "\n",
    "etiology = np.random.choice(['E', 'D', 'A'], num, p=[0.45, 0.24, 0.31])\n",
    "print (etiology)"
   ]
  },
  {
   "cell_type": "code",
   "execution_count": 74,
   "metadata": {},
   "outputs": [
    {
     "data": {
      "text/plain": [
       "<matplotlib.axes._subplots.AxesSubplot at 0x26702d28860>"
      ]
     },
     "execution_count": 74,
     "metadata": {},
     "output_type": "execute_result"
    },
    {
     "data": {
      "image/png": "[encoded data removed]",
      "text/plain": [
       "<Figure size 432x288 with 1 Axes>"
      ]
     },
     "metadata": {
      "needs_background": "light"
     },
     "output_type": "display_data"
    }
   ],
   "source": [
    "sns.swarmplot(etiology, color=\"blue\")"
   ]
  },
  {
   "cell_type": "markdown",
   "metadata": {},
   "source": [
    "# Age at Treatment"
   ]
  },
  {
   "cell_type": "code",
   "execution_count": 75,
   "metadata": {
    "scrolled": true
   },
   "outputs": [
    {
     "name": "stdout",
     "output_type": "stream",
     "text": [
      "[14  6 11 14 11 13 14 11 14  7 11  7 10 13 13 13 13 12  6  9 10 10 12 14\n",
      " 10  8  7  7 12  9 10 11 10  6  8 14  6 13 12 11 14  8  8  6  7  8  9 11\n",
      " 13 14 13 13 12  8  6 10 11 10 12  6 10 12 10 14  6 13  7 13  7  7 11 11\n",
      "  6 14  9 13  7 11  8  9 10 11 13 12 14  6 10 12  9 11  9 14  9  6 12  8\n",
      "  9  7 10  6]\n"
     ]
    }
   ],
   "source": [
    "# Generates ages randomly\n",
    "num = 100\n",
    "age = np.random.randint(6, 15, 100)\n",
    "print (age)"
   ]
  },
  {
   "cell_type": "code",
   "execution_count": 76,
   "metadata": {},
   "outputs": [
    {
     "data": {
      "text/plain": [
       "10.17"
      ]
     },
     "execution_count": 76,
     "metadata": {},
     "output_type": "execute_result"
    }
   ],
   "source": [
    "#Generates the mean age\n",
    "np.mean(age)"
   ]
  },
  {
   "cell_type": "code",
   "execution_count": 77,
   "metadata": {},
   "outputs": [
    {
     "data": {
      "text/plain": [
       "10.0"
      ]
     },
     "execution_count": 77,
     "metadata": {},
     "output_type": "execute_result"
    }
   ],
   "source": [
    "#Generates the median age\n",
    "np.median(age)"
   ]
  },
  {
   "cell_type": "code",
   "execution_count": 78,
   "metadata": {},
   "outputs": [
    {
     "data": {
      "text/plain": [
       "<matplotlib.axes._subplots.AxesSubplot at 0x26702d76198>"
      ]
     },
     "execution_count": 78,
     "metadata": {},
     "output_type": "execute_result"
    },
    {
     "data": {
      "image/png": "[encoded data removed]",
      "text/plain": [
       "<Figure size 432x288 with 1 Axes>"
      ]
     },
     "metadata": {
      "needs_background": "light"
     },
     "output_type": "display_data"
    }
   ],
   "source": [
    "#Draws a pointplot of Age at Treatment in the study\n",
    "sns.pointplot(age, color=\"blue\")"
   ]
  },
  {
   "cell_type": "code",
   "execution_count": 79,
   "metadata": {},
   "outputs": [
    {
     "data": {
      "text/html": [
       "<div>\n",
       "<style scoped>\n",
       "    .dataframe tbody tr th:only-of-type {\n",
       "        vertical-align: middle;\n",
       "    }\n",
       "\n",
       "    .dataframe tbody tr th {\n",
       "        vertical-align: top;\n",
       "    }\n",
       "\n",
       "    .dataframe thead th {\n",
       "        text-align: right;\n",
       "    }\n",
       "</style>\n",
       "<table border=\"1\" class=\"dataframe\">\n",
       "  <thead>\n",
       "    <tr style=\"text-align: right;\">\n",
       "      <th></th>\n",
       "      <th>Gender</th>\n",
       "      <th>Age at Treatment</th>\n",
       "      <th>Etiologies</th>\n",
       "      <th>T4 at Year One</th>\n",
       "    </tr>\n",
       "  </thead>\n",
       "  <tbody>\n",
       "    <tr>\n",
       "      <th>0</th>\n",
       "      <td>F</td>\n",
       "      <td>19</td>\n",
       "      <td>E</td>\n",
       "      <td>9.4</td>\n",
       "    </tr>\n",
       "    <tr>\n",
       "      <th>1</th>\n",
       "      <td>F</td>\n",
       "      <td>12</td>\n",
       "      <td>E</td>\n",
       "      <td>24.7</td>\n",
       "    </tr>\n",
       "    <tr>\n",
       "      <th>2</th>\n",
       "      <td>F</td>\n",
       "      <td>15</td>\n",
       "      <td>E</td>\n",
       "      <td>19.2</td>\n",
       "    </tr>\n",
       "    <tr>\n",
       "      <th>3</th>\n",
       "      <td>F</td>\n",
       "      <td>16</td>\n",
       "      <td>D</td>\n",
       "      <td>16.0</td>\n",
       "    </tr>\n",
       "    <tr>\n",
       "      <th>4</th>\n",
       "      <td>M</td>\n",
       "      <td>13</td>\n",
       "      <td>E</td>\n",
       "      <td>22.4</td>\n",
       "    </tr>\n",
       "    <tr>\n",
       "      <th>5</th>\n",
       "      <td>M</td>\n",
       "      <td>17</td>\n",
       "      <td>D</td>\n",
       "      <td>15.6</td>\n",
       "    </tr>\n",
       "    <tr>\n",
       "      <th>6</th>\n",
       "      <td>M</td>\n",
       "      <td>15</td>\n",
       "      <td>E</td>\n",
       "      <td>25.0</td>\n",
       "    </tr>\n",
       "    <tr>\n",
       "      <th>7</th>\n",
       "      <td>F</td>\n",
       "      <td>12</td>\n",
       "      <td>E</td>\n",
       "      <td>21.8</td>\n",
       "    </tr>\n",
       "    <tr>\n",
       "      <th>8</th>\n",
       "      <td>F</td>\n",
       "      <td>10</td>\n",
       "      <td>A</td>\n",
       "      <td>30.5</td>\n",
       "    </tr>\n",
       "    <tr>\n",
       "      <th>9</th>\n",
       "      <td>M</td>\n",
       "      <td>10</td>\n",
       "      <td>E</td>\n",
       "      <td>25.4</td>\n",
       "    </tr>\n",
       "    <tr>\n",
       "      <th>10</th>\n",
       "      <td>F</td>\n",
       "      <td>14</td>\n",
       "      <td>D</td>\n",
       "      <td>15.6</td>\n",
       "    </tr>\n",
       "    <tr>\n",
       "      <th>11</th>\n",
       "      <td>F</td>\n",
       "      <td>20</td>\n",
       "      <td>E</td>\n",
       "      <td>23.0</td>\n",
       "    </tr>\n",
       "    <tr>\n",
       "      <th>12</th>\n",
       "      <td>M</td>\n",
       "      <td>11</td>\n",
       "      <td>E</td>\n",
       "      <td>19.0</td>\n",
       "    </tr>\n",
       "    <tr>\n",
       "      <th>13</th>\n",
       "      <td>F</td>\n",
       "      <td>12</td>\n",
       "      <td>A</td>\n",
       "      <td>22.7</td>\n",
       "    </tr>\n",
       "    <tr>\n",
       "      <th>14</th>\n",
       "      <td>F</td>\n",
       "      <td>14</td>\n",
       "      <td>E</td>\n",
       "      <td>11.9</td>\n",
       "    </tr>\n",
       "    <tr>\n",
       "      <th>15</th>\n",
       "      <td>F</td>\n",
       "      <td>20</td>\n",
       "      <td>A</td>\n",
       "      <td>15.8</td>\n",
       "    </tr>\n",
       "    <tr>\n",
       "      <th>16</th>\n",
       "      <td>F</td>\n",
       "      <td>14</td>\n",
       "      <td>D</td>\n",
       "      <td>20.0</td>\n",
       "    </tr>\n",
       "    <tr>\n",
       "      <th>17</th>\n",
       "      <td>F</td>\n",
       "      <td>10</td>\n",
       "      <td>A</td>\n",
       "      <td>16.2</td>\n",
       "    </tr>\n",
       "    <tr>\n",
       "      <th>18</th>\n",
       "      <td>M</td>\n",
       "      <td>12</td>\n",
       "      <td>E</td>\n",
       "      <td>23.4</td>\n",
       "    </tr>\n",
       "    <tr>\n",
       "      <th>19</th>\n",
       "      <td>F</td>\n",
       "      <td>16</td>\n",
       "      <td>A</td>\n",
       "      <td>16.5</td>\n",
       "    </tr>\n",
       "    <tr>\n",
       "      <th>20</th>\n",
       "      <td>F</td>\n",
       "      <td>13</td>\n",
       "      <td>E</td>\n",
       "      <td>10.2</td>\n",
       "    </tr>\n",
       "    <tr>\n",
       "      <th>21</th>\n",
       "      <td>M</td>\n",
       "      <td>10</td>\n",
       "      <td>D</td>\n",
       "      <td>11.5</td>\n",
       "    </tr>\n",
       "    <tr>\n",
       "      <th>22</th>\n",
       "      <td>F</td>\n",
       "      <td>12</td>\n",
       "      <td>A</td>\n",
       "      <td>13.2</td>\n",
       "    </tr>\n",
       "    <tr>\n",
       "      <th>23</th>\n",
       "      <td>F</td>\n",
       "      <td>12</td>\n",
       "      <td>D</td>\n",
       "      <td>14.0</td>\n",
       "    </tr>\n",
       "    <tr>\n",
       "      <th>24</th>\n",
       "      <td>M</td>\n",
       "      <td>19</td>\n",
       "      <td>D</td>\n",
       "      <td>15.0</td>\n",
       "    </tr>\n",
       "  </tbody>\n",
       "</table>\n",
       "</div>"
      ],
      "text/plain": [
       "   Gender  Age at Treatment Etiologies  T4 at Year One\n",
       "0       F                19          E             9.4\n",
       "1       F                12          E            24.7\n",
       "2       F                15          E            19.2\n",
       "3       F                16          D            16.0\n",
       "4       M                13          E            22.4\n",
       "5       M                17          D            15.6\n",
       "6       M                15          E            25.0\n",
       "7       F                12          E            21.8\n",
       "8       F                10          A            30.5\n",
       "9       M                10          E            25.4\n",
       "10      F                14          D            15.6\n",
       "11      F                20          E            23.0\n",
       "12      M                11          E            19.0\n",
       "13      F                12          A            22.7\n",
       "14      F                14          E            11.9\n",
       "15      F                20          A            15.8\n",
       "16      F                14          D            20.0\n",
       "17      F                10          A            16.2\n",
       "18      M                12          E            23.4\n",
       "19      F                16          A            16.5\n",
       "20      F                13          E            10.2\n",
       "21      M                10          D            11.5\n",
       "22      F                12          A            13.2\n",
       "23      F                12          D            14.0\n",
       "24      M                19          D            15.0"
      ]
     },
     "execution_count": 79,
     "metadata": {},
     "output_type": "execute_result"
    }
   ],
   "source": [
    "#Creates a dataframe using the variables Gender, Age at Treatment, Etiologies and T4 at Year One\n",
    "#Adapted from https://www.geeksforgeeks.org/different-ways-to-create-pandas-dataframe/\n",
    "\n",
    "\n",
    "import pandas as pd \n",
    "  \n",
    "# Activates data in lists. ,\n",
    "data = {'Gender':['F', 'F', 'F', 'F', 'M', 'M', 'M', 'F','F', 'M', 'F', 'F','M', 'F', 'F', 'F', 'F', 'F','M', 'F', 'F', 'M', 'F', 'F','M'], \n",
    "        'Age at Treatment':['19', '12', '15', '16', '13', '17', '15', '12', '10', '10', '14', '20','11', '12', '14', '20', '14', '10', '12', '16', '13', '10', '12', '12', '19'],\n",
    "        'Etiologies':['E', 'E', 'E', 'D', 'E', 'D', 'E', 'E', 'A', 'E', 'D', 'E', 'E', 'A', 'E', 'A', 'D', 'A', 'E', 'A', 'E', 'D', 'A', 'D', 'D'],\n",
    "       'T4 at Year One': ['9.4', '24.7', '19.2', '16', '22.4', '15.6', '25', '21.8', '30.5', '25.4', '15.6', '23', '19', '22.7', '11.9', '15.8', '20', '16.2', '23.4', '16.5', '10.2', '11.5', '13.2', '14', '15']\n",
    "       }      \n",
    "\n",
    "\n",
    "\n",
    "# Produces the DataFrame \n",
    "df = pd.DataFrame(data) \n",
    "df[[\"Age at Treatment\", \"T4 at Year One\"]] = df[[\"Age at Treatment\", \"T4 at Year One\"]].apply(pd.to_numeric)\n",
    "\n",
    "# Print the output. \n",
    "df \n"
   ]
  },
  {
   "cell_type": "code",
   "execution_count": 80,
   "metadata": {},
   "outputs": [
    {
     "name": "stdout",
     "output_type": "stream",
     "text": [
      "<class 'pandas.core.frame.DataFrame'>\n",
      "RangeIndex: 25 entries, 0 to 24\n",
      "Data columns (total 4 columns):\n",
      "Gender              25 non-null object\n",
      "Age at Treatment    25 non-null int64\n",
      "Etiologies          25 non-null object\n",
      "T4 at Year One      25 non-null float64\n",
      "dtypes: float64(1), int64(1), object(2)\n",
      "memory usage: 880.0+ bytes\n"
     ]
    }
   ],
   "source": [
    "#Obtains information from the dataset\n",
    "df.info()\n"
   ]
  },
  {
   "cell_type": "code",
   "execution_count": 81,
   "metadata": {},
   "outputs": [
    {
     "data": {
      "text/html": [
       "<div>\n",
       "<style scoped>\n",
       "    .dataframe tbody tr th:only-of-type {\n",
       "        vertical-align: middle;\n",
       "    }\n",
       "\n",
       "    .dataframe tbody tr th {\n",
       "        vertical-align: top;\n",
       "    }\n",
       "\n",
       "    .dataframe thead th {\n",
       "        text-align: right;\n",
       "    }\n",
       "</style>\n",
       "<table border=\"1\" class=\"dataframe\">\n",
       "  <thead>\n",
       "    <tr style=\"text-align: right;\">\n",
       "      <th></th>\n",
       "      <th>Age at Treatment</th>\n",
       "      <th>T4 at Year One</th>\n",
       "    </tr>\n",
       "  </thead>\n",
       "  <tbody>\n",
       "    <tr>\n",
       "      <th>count</th>\n",
       "      <td>25.000000</td>\n",
       "      <td>25.000000</td>\n",
       "    </tr>\n",
       "    <tr>\n",
       "      <th>mean</th>\n",
       "      <td>13.920000</td>\n",
       "      <td>18.320000</td>\n",
       "    </tr>\n",
       "    <tr>\n",
       "      <th>std</th>\n",
       "      <td>3.161223</td>\n",
       "      <td>5.427476</td>\n",
       "    </tr>\n",
       "    <tr>\n",
       "      <th>min</th>\n",
       "      <td>10.000000</td>\n",
       "      <td>9.400000</td>\n",
       "    </tr>\n",
       "    <tr>\n",
       "      <th>25%</th>\n",
       "      <td>12.000000</td>\n",
       "      <td>15.000000</td>\n",
       "    </tr>\n",
       "    <tr>\n",
       "      <th>50%</th>\n",
       "      <td>13.000000</td>\n",
       "      <td>16.500000</td>\n",
       "    </tr>\n",
       "    <tr>\n",
       "      <th>75%</th>\n",
       "      <td>16.000000</td>\n",
       "      <td>22.700000</td>\n",
       "    </tr>\n",
       "    <tr>\n",
       "      <th>max</th>\n",
       "      <td>20.000000</td>\n",
       "      <td>30.500000</td>\n",
       "    </tr>\n",
       "  </tbody>\n",
       "</table>\n",
       "</div>"
      ],
      "text/plain": [
       "       Age at Treatment  T4 at Year One\n",
       "count         25.000000       25.000000\n",
       "mean          13.920000       18.320000\n",
       "std            3.161223        5.427476\n",
       "min           10.000000        9.400000\n",
       "25%           12.000000       15.000000\n",
       "50%           13.000000       16.500000\n",
       "75%           16.000000       22.700000\n",
       "max           20.000000       30.500000"
      ]
     },
     "execution_count": 81,
     "metadata": {},
     "output_type": "execute_result"
    }
   ],
   "source": [
    "#Describes information of the dataset\n",
    "df.describe()"
   ]
  },
  {
   "cell_type": "code",
   "execution_count": 82,
   "metadata": {},
   "outputs": [
    {
     "data": {
      "text/plain": [
       "Age at Treatment    13.92\n",
       "T4 at Year One      18.32\n",
       "dtype: float64"
      ]
     },
     "execution_count": 82,
     "metadata": {},
     "output_type": "execute_result"
    }
   ],
   "source": [
    "#Gets the mean of the dataset\n",
    "df.mean()"
   ]
  },
  {
   "cell_type": "code",
   "execution_count": 83,
   "metadata": {},
   "outputs": [
    {
     "name": "stdout",
     "output_type": "stream",
     "text": [
      "Mean: 13.92\n",
      "Standard Deviation: 3.09735370921695\n"
     ]
    }
   ],
   "source": [
    "#Obtain the mean and standard deviation of the Age At Treatment data\n",
    "#Adapted from https://towardsdatascience.com/using-standard-deviation-in-python-77872c32ba9b\n",
    "import numpy as np\n",
    "df=[19, 12, 15, 16, 13, 17, 15, 12, 10, 10, 14, 20, 11, 12, 14, 20, 14, 10, 12, 16, 13, 10, 12, 12, 19]\n",
    "print('Mean:', np.mean(df))\n",
    "print('Standard Deviation:', np.std(df))\n"
   ]
  },
  {
   "cell_type": "code",
   "execution_count": 92,
   "metadata": {},
   "outputs": [
    {
     "data": {
      "image/png": "[encoded data removed]",
      "text/plain": [
       "<Figure size 432x288 with 1 Axes>"
      ]
     },
     "metadata": {
      "needs_background": "light"
     },
     "output_type": "display_data"
    }
   ],
   "source": [
    "#Obtain the distribution of the Age at Treatment data\n",
    "#https://towardsdatascience.com/using-standard-deviation-in-python-77872c32ba9b\n",
    "mean = 13.92\n",
    "sd = 3.09\n",
    "sample = np.random.normal(mean, sd, 1000)\n",
    "plt.plot(sample, stats.norm.pdf(sample, 13.92, 3.09))\n",
    "plt.show()"
   ]
  },
  {
   "cell_type": "code",
   "execution_count": 91,
   "metadata": {},
   "outputs": [
    {
     "name": "stdout",
     "output_type": "stream",
     "text": [
      "Mean: 18.319999999999997\n",
      "Standard Deviation: 5.31781910184993\n"
     ]
    }
   ],
   "source": [
    "#Obtain the mean and standard deviation of T4 at Year One\n",
    "#Adapted from https://towardsdatascience.com/using-standard-deviation-in-python-77872c32ba9b\n",
    "import numpy as n\n",
    "df=[9.4, 24.7, 19.2, 16, 22.4, 15.6, 25, 21.8, 30.5, 25.4, 15.6, 23, 19, 22.7, 11.9, 15.8, 20, 16.2, 23.4, 16.5, 10.2, 11.5, 13.2, 14, 15]\n",
    "print('Mean:', np.mean(df))\n",
    "print('Standard Deviation:', np.std(df))\n"
   ]
  },
  {
   "cell_type": "code",
   "execution_count": 90,
   "metadata": {},
   "outputs": [
    {
     "data": {
      "image/png": "[encoded data removed]",
      "text/plain": [
       "<Figure size 432x288 with 1 Axes>"
      ]
     },
     "metadata": {
      "needs_background": "light"
     },
     "output_type": "display_data"
    }
   ],
   "source": [
    "#Obtain the distribution of the T4 at Year One data\n",
    "#https://towardsdatascience.com/using-standard-deviation-in-python-77872c32ba9b\n",
    "mean = 18.319999999999997\n",
    "sd = 5.31781910184993\n",
    "sample = np.random.normal(mean, sd, 1000)\n",
    "plt.plot(sample, stats.norm.pdf(sample, 13.92, 3.09))\n",
    "plt.show()"
   ]
  },
  {
   "cell_type": "code",
   "execution_count": 93,
   "metadata": {},
   "outputs": [
    {
     "ename": "AttributeError",
     "evalue": "'list' object has no attribute 'get'",
     "output_type": "error",
     "traceback": [
      "\u001b[1;31m---------------------------------------------------------------------------\u001b[0m",
      "\u001b[1;31mAttributeError\u001b[0m                            Traceback (most recent call last)",
      "\u001b[1;32m<ipython-input-93-e75f6680b61b>\u001b[0m in \u001b[0;36m<module>\u001b[1;34m\u001b[0m\n\u001b[0;32m      1\u001b[0m \u001b[1;31m#Draws a relplot comparing Age at Treatment and T4 at Year One\u001b[0m\u001b[1;33m\u001b[0m\u001b[1;33m\u001b[0m\u001b[1;33m\u001b[0m\u001b[0m\n\u001b[1;32m----> 2\u001b[1;33m \u001b[0msns\u001b[0m\u001b[1;33m.\u001b[0m\u001b[0mrelplot\u001b[0m\u001b[1;33m(\u001b[0m\u001b[0mx\u001b[0m\u001b[1;33m=\u001b[0m\u001b[1;34m\"Age at Treatment\"\u001b[0m\u001b[1;33m,\u001b[0m \u001b[0my\u001b[0m\u001b[1;33m=\u001b[0m\u001b[1;34m\"T4 at Year One\"\u001b[0m\u001b[1;33m,\u001b[0m \u001b[0mkind\u001b[0m\u001b[1;33m=\u001b[0m\u001b[1;34m\"line\"\u001b[0m\u001b[1;33m,\u001b[0m \u001b[0mdata\u001b[0m\u001b[1;33m=\u001b[0m\u001b[0mdf\u001b[0m\u001b[1;33m,\u001b[0m \u001b[0mheight\u001b[0m\u001b[1;33m=\u001b[0m\u001b[1;36m5\u001b[0m\u001b[1;33m,\u001b[0m \u001b[0maspect\u001b[0m\u001b[1;33m=\u001b[0m\u001b[1;36m1\u001b[0m\u001b[1;33m)\u001b[0m\u001b[1;33m\u001b[0m\u001b[1;33m\u001b[0m\u001b[0m\n\u001b[0m",
      "\u001b[1;32m~\\Anaconda3\\lib\\site-packages\\seaborn\\relational.py\u001b[0m in \u001b[0;36mrelplot\u001b[1;34m(x, y, hue, size, style, data, row, col, col_wrap, row_order, col_order, palette, hue_order, hue_norm, sizes, size_order, size_norm, markers, dashes, style_order, legend, kind, height, aspect, facet_kws, **kwargs)\u001b[0m\n\u001b[0;32m   1574\u001b[0m         \u001b[0msizes\u001b[0m\u001b[1;33m=\u001b[0m\u001b[0msizes\u001b[0m\u001b[1;33m,\u001b[0m \u001b[0msize_order\u001b[0m\u001b[1;33m=\u001b[0m\u001b[0msize_order\u001b[0m\u001b[1;33m,\u001b[0m \u001b[0msize_norm\u001b[0m\u001b[1;33m=\u001b[0m\u001b[0msize_norm\u001b[0m\u001b[1;33m,\u001b[0m\u001b[1;33m\u001b[0m\u001b[1;33m\u001b[0m\u001b[0m\n\u001b[0;32m   1575\u001b[0m         \u001b[0mmarkers\u001b[0m\u001b[1;33m=\u001b[0m\u001b[0mmarkers\u001b[0m\u001b[1;33m,\u001b[0m \u001b[0mdashes\u001b[0m\u001b[1;33m=\u001b[0m\u001b[0mdashes\u001b[0m\u001b[1;33m,\u001b[0m \u001b[0mstyle_order\u001b[0m\u001b[1;33m=\u001b[0m\u001b[0mstyle_order\u001b[0m\u001b[1;33m,\u001b[0m\u001b[1;33m\u001b[0m\u001b[1;33m\u001b[0m\u001b[0m\n\u001b[1;32m-> 1576\u001b[1;33m         \u001b[0mlegend\u001b[0m\u001b[1;33m=\u001b[0m\u001b[0mlegend\u001b[0m\u001b[1;33m,\u001b[0m\u001b[1;33m\u001b[0m\u001b[1;33m\u001b[0m\u001b[0m\n\u001b[0m\u001b[0;32m   1577\u001b[0m     )\n\u001b[0;32m   1578\u001b[0m \u001b[1;33m\u001b[0m\u001b[0m\n",
      "\u001b[1;32m~\\Anaconda3\\lib\\site-packages\\seaborn\\relational.py\u001b[0m in \u001b[0;36m__init__\u001b[1;34m(self, x, y, hue, size, style, data, palette, hue_order, hue_norm, sizes, size_order, size_norm, dashes, markers, style_order, units, estimator, ci, n_boot, sort, err_style, err_kws, legend)\u001b[0m\n\u001b[0;32m    661\u001b[0m \u001b[1;33m\u001b[0m\u001b[0m\n\u001b[0;32m    662\u001b[0m         plot_data = self.establish_variables(\n\u001b[1;32m--> 663\u001b[1;33m             \u001b[0mx\u001b[0m\u001b[1;33m,\u001b[0m \u001b[0my\u001b[0m\u001b[1;33m,\u001b[0m \u001b[0mhue\u001b[0m\u001b[1;33m,\u001b[0m \u001b[0msize\u001b[0m\u001b[1;33m,\u001b[0m \u001b[0mstyle\u001b[0m\u001b[1;33m,\u001b[0m \u001b[0munits\u001b[0m\u001b[1;33m,\u001b[0m \u001b[0mdata\u001b[0m\u001b[1;33m\u001b[0m\u001b[1;33m\u001b[0m\u001b[0m\n\u001b[0m\u001b[0;32m    664\u001b[0m         )\n\u001b[0;32m    665\u001b[0m \u001b[1;33m\u001b[0m\u001b[0m\n",
      "\u001b[1;32m~\\Anaconda3\\lib\\site-packages\\seaborn\\relational.py\u001b[0m in \u001b[0;36mestablish_variables\u001b[1;34m(self, x, y, hue, size, style, units, data)\u001b[0m\n\u001b[0;32m    129\u001b[0m             \u001b[1;31m# Use variables as from the dataframe if specified\u001b[0m\u001b[1;33m\u001b[0m\u001b[1;33m\u001b[0m\u001b[1;33m\u001b[0m\u001b[0m\n\u001b[0;32m    130\u001b[0m             \u001b[1;32mif\u001b[0m \u001b[0mdata\u001b[0m \u001b[1;32mis\u001b[0m \u001b[1;32mnot\u001b[0m \u001b[1;32mNone\u001b[0m\u001b[1;33m:\u001b[0m\u001b[1;33m\u001b[0m\u001b[1;33m\u001b[0m\u001b[0m\n\u001b[1;32m--> 131\u001b[1;33m                 \u001b[0mx\u001b[0m \u001b[1;33m=\u001b[0m \u001b[0mdata\u001b[0m\u001b[1;33m.\u001b[0m\u001b[0mget\u001b[0m\u001b[1;33m(\u001b[0m\u001b[0mx\u001b[0m\u001b[1;33m,\u001b[0m \u001b[0mx\u001b[0m\u001b[1;33m)\u001b[0m\u001b[1;33m\u001b[0m\u001b[1;33m\u001b[0m\u001b[0m\n\u001b[0m\u001b[0;32m    132\u001b[0m                 \u001b[0my\u001b[0m \u001b[1;33m=\u001b[0m \u001b[0mdata\u001b[0m\u001b[1;33m.\u001b[0m\u001b[0mget\u001b[0m\u001b[1;33m(\u001b[0m\u001b[0my\u001b[0m\u001b[1;33m,\u001b[0m \u001b[0my\u001b[0m\u001b[1;33m)\u001b[0m\u001b[1;33m\u001b[0m\u001b[1;33m\u001b[0m\u001b[0m\n\u001b[0;32m    133\u001b[0m                 \u001b[0mhue\u001b[0m \u001b[1;33m=\u001b[0m \u001b[0mdata\u001b[0m\u001b[1;33m.\u001b[0m\u001b[0mget\u001b[0m\u001b[1;33m(\u001b[0m\u001b[0mhue\u001b[0m\u001b[1;33m,\u001b[0m \u001b[0mhue\u001b[0m\u001b[1;33m)\u001b[0m\u001b[1;33m\u001b[0m\u001b[1;33m\u001b[0m\u001b[0m\n",
      "\u001b[1;31mAttributeError\u001b[0m: 'list' object has no attribute 'get'"
     ]
    }
   ],
   "source": [
    "#Draws a relplot comparing Age at Treatment and T4 at Year One\n",
    "sns.relplot(x=\"Age at Treatment\", y=\"T4 at Year One\", kind=\"line\", data=df, height=5, aspect=1)"
   ]
  },
  {
   "cell_type": "code",
   "execution_count": null,
   "metadata": {
    "scrolled": true
   },
   "outputs": [],
   "source": [
    "#Draws a relplot comparing Gender and T4 at Year One\n",
    "sns.relplot(x=\"Gender\", y=\"T4 at Year One\", kind=\"line\", data=df, height=5, aspect=1)"
   ]
  },
  {
   "cell_type": "code",
   "execution_count": null,
   "metadata": {},
   "outputs": [],
   "source": [
    "#Draws a relplot comparing Gender and Age at Treatment\n",
    "sns.relplot(x=\"Gender\", y=\"Age at Treatment\", kind=\"line\", data=df, height=5, aspect=1)"
   ]
  },
  {
   "cell_type": "code",
   "execution_count": null,
   "metadata": {},
   "outputs": [],
   "source": [
    "#Draws a relplot comparing Etiology and Age at Treatment\n",
    "sns.relplot(x=\"Etiology\", y=\"T4 at Year One\", kind=\"line\", data=df, height=5, aspect=1)"
   ]
  },
  {
   "cell_type": "code",
   "execution_count": null,
   "metadata": {},
   "outputs": [],
   "source": [
    "sns.relplot(x=\"Etiology\", y=\"Age at Treatment\", kind=\"scatter\", data=df, height=5, aspect=1)"
   ]
  },
  {
   "cell_type": "code",
   "execution_count": null,
   "metadata": {},
   "outputs": [],
   "source": [
    "# References\n",
    "\n",
    "https://dziganto.github.io/data%20science/eda/machine%20learning/python/simulated%20data/Simulated-Datasets-for-Faster-ML-Understanding/\n",
    "\n",
    "https://www.geeksforgeeks.org/different-ways-to-create-pandas-dataframe/\n",
    "\n",
    "http://dept.stat.lsa.umich.edu/~kshedden/Python-Workshop/stats_calculations.html\n",
    "    \n",
    "https://towardsdatascience.com/using-standard-deviation-in-python-77872c32ba9b\n",
    "   "
   ]
  },
  {
   "cell_type": "code",
   "execution_count": null,
   "metadata": {},
   "outputs": [],
   "source": []
  },
  {
   "cell_type": "code",
   "execution_count": null,
   "metadata": {},
   "outputs": [],
   "source": []
  },
  {
   "cell_type": "code",
   "execution_count": null,
   "metadata": {},
   "outputs": [],
   "source": []
  },
  {
   "cell_type": "code",
   "execution_count": null,
   "metadata": {},
   "outputs": [],
   "source": []
  },
  {
   "cell_type": "code",
   "execution_count": null,
   "metadata": {},
   "outputs": [],
   "source": []
  }
 ],
 "metadata": {
  "kernelspec": {
   "display_name": "Python 3",
   "language": "python",
   "name": "python3"
  },
  "language_info": {
   "codemirror_mode": {
    "name": "ipython",
    "version": 3
   },
   "file_extension": ".py",
   "mimetype": "text/x-python",
   "name": "python",
   "nbconvert_exporter": "python",
   "pygments_lexer": "ipython3",
   "version": "3.7.3"
  }
 },
 "nbformat": 4,
 "nbformat_minor": 2
}
