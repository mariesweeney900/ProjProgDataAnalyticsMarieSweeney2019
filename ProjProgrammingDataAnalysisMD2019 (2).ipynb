{
 "cells": [
  {
   "cell_type": "code",
   "execution_count": 65,
   "metadata": {},
   "outputs": [],
   "source": [
    "import numpy as np\n",
    "import pandas as pd \n",
    "import seaborn as sns"
   ]
  },
  {
   "cell_type": "markdown",
   "metadata": {},
   "source": [
    "124,404 babies were assessed for the purpose for the study over a timeframe of 15 years. Congenital hypothyroidism occurs in  \n",
    "1:2759 live births with a female to male ratio of occurrance at 1.8:1. The main etiologies of CH are dyshormonogenesis (17%), athyreosis (45%) and by thyroid ectopia (24%). The mean age for the commencement of treatment of infants diagnosed in the screening program was 10.3 days.\n"
   ]
  },
  {
   "cell_type": "markdown",
   "metadata": {},
   "source": [
    "# Gender\n"
   ]
  },
  {
   "cell_type": "code",
   "execution_count": 66,
   "metadata": {},
   "outputs": [
    {
     "name": "stdout",
     "output_type": "stream",
     "text": [
      "['M' 'F' 'F' 'M' 'F' 'F' 'F' 'M' 'F' 'F' 'M' 'M' 'F' 'F' 'M' 'F' 'M' 'F'\n",
      " 'M' 'M' 'F' 'F' 'F' 'M' 'F' 'F' 'F' 'F' 'F' 'F' 'M' 'F' 'M' 'F' 'F' 'F'\n",
      " 'F' 'M' 'F' 'F' 'F' 'M' 'F' 'M' 'F' 'M' 'F' 'M' 'F' 'F' 'F' 'F' 'M' 'F'\n",
      " 'F' 'M' 'M' 'F' 'M' 'F' 'F' 'M' 'F' 'F' 'F' 'F' 'F' 'F' 'F' 'M' 'F' 'F'\n",
      " 'F' 'F' 'F' 'F' 'M' 'M' 'M' 'F' 'F' 'F' 'F' 'F' 'F' 'F' 'F' 'F' 'F' 'F'\n",
      " 'F' 'F' 'F' 'M' 'F' 'F' 'M' 'F' 'F' 'F']\n"
     ]
    }
   ],
   "source": [
    "#Gender of the ratio of females to males with CH in the study had an incidence of 2:1 meaning that as a female, one's probablity of having CH is twice that of a male. Adapted from https://dziganto.github.io/data%20science/eda/machine%20learning/python/simulated%20data/Simulated-Datasets-for-Faster-ML-Understanding/\n",
    "\n",
    "\n",
    "# reproducibility\n",
    "np.random.seed(10)\n",
    "\n",
    "# number\n",
    "num = 100\n",
    "\n",
    "# feature setup\n",
    "\n",
    "gender = np.random.choice(['F', 'M'], num, p=[0.67, 0.33])\n",
    "print (gender)\n"
   ]
  },
  {
   "cell_type": "markdown",
   "metadata": {},
   "source": [
    "# Live Births"
   ]
  },
  {
   "cell_type": "code",
   "execution_count": 67,
   "metadata": {},
   "outputs": [
    {
     "name": "stdout",
     "output_type": "stream",
     "text": [
      "['NCH' 'NCH' 'NCH' 'NCH' 'NCH' 'NCH' 'NCH' 'NCH' 'NCH' 'NCH' 'NCH' 'NCH'\n",
      " 'NCH' 'NCH' 'NCH' 'NCH' 'NCH' 'NCH' 'NCH' 'NCH' 'NCH' 'NCH' 'NCH' 'NCH'\n",
      " 'NCH' 'NCH' 'NCH' 'NCH' 'NCH' 'NCH' 'NCH' 'NCH' 'NCH' 'NCH' 'NCH' 'NCH'\n",
      " 'NCH' 'NCH' 'NCH' 'NCH' 'NCH' 'NCH' 'NCH' 'NCH' 'NCH' 'NCH' 'NCH' 'NCH'\n",
      " 'NCH' 'NCH' 'NCH' 'NCH' 'NCH' 'NCH' 'NCH' 'NCH' 'NCH' 'NCH' 'NCH' 'NCH'\n",
      " 'NCH' 'NCH' 'NCH' 'NCH' 'NCH' 'NCH' 'NCH' 'NCH' 'NCH' 'NCH' 'NCH' 'NCH'\n",
      " 'NCH' 'NCH' 'NCH' 'NCH' 'NCH' 'NCH' 'NCH' 'NCH' 'NCH' 'NCH' 'NCH' 'NCH'\n",
      " 'NCH' 'NCH' 'NCH' 'NCH' 'NCH' 'NCH' 'NCH' 'NCH' 'NCH' 'NCH' 'NCH' 'NCH'\n",
      " 'NCH' 'NCH' 'NCH' 'NCH']\n"
     ]
    }
   ],
   "source": [
    "#Incidence of Live Births 1:2759, meaning that for every one birth of a child with CH, a child without CH is born. \n",
    "\n",
    "# reproducibility\n",
    "np.random.seed(10)\n",
    "num = 100   \n",
    "livebirth = np.random.choice(['CH', 'NCH'], num, p=[0.00036, 0.99964])   \n",
    "print (livebirth)"
   ]
  },
  {
   "cell_type": "markdown",
   "metadata": {},
   "source": [
    "# Etiologies"
   ]
  },
  {
   "cell_type": "code",
   "execution_count": 68,
   "metadata": {},
   "outputs": [
    {
     "name": "stdout",
     "output_type": "stream",
     "text": [
      "['A' 'E' 'D' 'A' 'D' 'E' 'E' 'A' 'E' 'E' 'D' 'A' 'E' 'D' 'A' 'D' 'A' 'E'\n",
      " 'A' 'A' 'D' 'E' 'E' 'D' 'E' 'E' 'D' 'D' 'D' 'D' 'A' 'D' 'A' 'E' 'E' 'E'\n",
      " 'E' 'A' 'E' 'D' 'D' 'A' 'E' 'A' 'E' 'A' 'E' 'A' 'E' 'E' 'E' 'E' 'A' 'E'\n",
      " 'E' 'A' 'A' 'D' 'A' 'E' 'D' 'A' 'D' 'D' 'E' 'E' 'E' 'E' 'E' 'A' 'E' 'E'\n",
      " 'E' 'D' 'E' 'E' 'A' 'A' 'A' 'E' 'D' 'D' 'D' 'E' 'E' 'E' 'E' 'E' 'D' 'D'\n",
      " 'D' 'E' 'E' 'A' 'E' 'D' 'A' 'E' 'E' 'D']\n"
     ]
    }
   ],
   "source": [
    "#ectopia dyshormonogenesis athyreosis \n",
    "\n",
    "# reproducibility\n",
    "np.random.seed(10)\n",
    "num = 100  \n",
    "\n",
    "etiology = np.random.choice(['E', 'D', 'A'], num, p=[0.45, 0.24, 0.31])\n",
    "print (etiology)"
   ]
  },
  {
   "cell_type": "markdown",
   "metadata": {},
   "source": [
    "# Age at Treatment"
   ]
  },
  {
   "cell_type": "code",
   "execution_count": 69,
   "metadata": {
    "scrolled": true
   },
   "outputs": [
    {
     "name": "stdout",
     "output_type": "stream",
     "text": [
      "[14  6 11 14 11 13 14 11 14  7 11  7 10 13 13 13 13 12  6  9 10 10 12 14\n",
      " 10  8  7  7 12  9 10 11 10  6  8 14  6 13 12 11 14  8  8  6  7  8  9 11\n",
      " 13 14 13 13 12  8  6 10 11 10 12  6 10 12 10 14  6 13  7 13  7  7 11 11\n",
      "  6 14  9 13  7 11  8  9 10 11 13 12 14  6 10 12  9 11  9 14  9  6 12  8\n",
      "  9  7 10  6]\n"
     ]
    }
   ],
   "source": [
    "# generates ages randomly\n",
    "num = 100\n",
    "age = np.random.randint(6, 15, 100)\n",
    "print (age)"
   ]
  },
  {
   "cell_type": "code",
   "execution_count": 70,
   "metadata": {},
   "outputs": [
    {
     "data": {
      "text/plain": [
       "10.17"
      ]
     },
     "execution_count": 70,
     "metadata": {},
     "output_type": "execute_result"
    }
   ],
   "source": [
    "np.mean(age)"
   ]
  },
  {
   "cell_type": "code",
   "execution_count": 71,
   "metadata": {},
   "outputs": [
    {
     "data": {
      "text/plain": [
       "10.0"
      ]
     },
     "execution_count": 71,
     "metadata": {},
     "output_type": "execute_result"
    }
   ],
   "source": [
    "np.median(age)"
   ]
  },
  {
   "cell_type": "code",
   "execution_count": 72,
   "metadata": {},
   "outputs": [
    {
     "data": {
      "text/plain": [
       "<matplotlib.axes._subplots.AxesSubplot at 0x296c6db1208>"
      ]
     },
     "execution_count": 72,
     "metadata": {},
     "output_type": "execute_result"
    },
    {
     "data": {
      "image/png": "[encoded data removed]",
      "text/plain": [
       "<Figure size 432x288 with 1 Axes>"
      ]
     },
     "metadata": {
      "needs_background": "light"
     },
     "output_type": "display_data"
    }
   ],
   "source": [
    "sns.pointplot(age, color=\"blue\")"
   ]
  },
  {
   "cell_type": "code",
   "execution_count": 73,
   "metadata": {},
   "outputs": [],
   "source": [
    "df = pd.DataFrame(columns=['Gender', 'Live Births', 'Etiologies', 'Age at Treatment'])"
   ]
  },
  {
   "cell_type": "code",
   "execution_count": 74,
   "metadata": {},
   "outputs": [
    {
     "data": {
      "text/html": [
       "<div>\n",
       "<style scoped>\n",
       "    .dataframe tbody tr th:only-of-type {\n",
       "        vertical-align: middle;\n",
       "    }\n",
       "\n",
       "    .dataframe tbody tr th {\n",
       "        vertical-align: top;\n",
       "    }\n",
       "\n",
       "    .dataframe thead th {\n",
       "        text-align: right;\n",
       "    }\n",
       "</style>\n",
       "<table border=\"1\" class=\"dataframe\">\n",
       "  <thead>\n",
       "    <tr style=\"text-align: right;\">\n",
       "      <th></th>\n",
       "      <th>Gender</th>\n",
       "      <th>Live Births</th>\n",
       "      <th>Age at Treatment</th>\n",
       "      <th>Etiologies</th>\n",
       "    </tr>\n",
       "  </thead>\n",
       "  <tbody>\n",
       "    <tr>\n",
       "      <th>0</th>\n",
       "      <td>F</td>\n",
       "      <td>9.4</td>\n",
       "      <td>19</td>\n",
       "      <td>E</td>\n",
       "    </tr>\n",
       "    <tr>\n",
       "      <th>1</th>\n",
       "      <td>F</td>\n",
       "      <td>24.7</td>\n",
       "      <td>12</td>\n",
       "      <td>E</td>\n",
       "    </tr>\n",
       "    <tr>\n",
       "      <th>2</th>\n",
       "      <td>F</td>\n",
       "      <td>19.2</td>\n",
       "      <td>15</td>\n",
       "      <td>E</td>\n",
       "    </tr>\n",
       "    <tr>\n",
       "      <th>3</th>\n",
       "      <td>F</td>\n",
       "      <td>16</td>\n",
       "      <td>16</td>\n",
       "      <td>D</td>\n",
       "    </tr>\n",
       "    <tr>\n",
       "      <th>4</th>\n",
       "      <td>M</td>\n",
       "      <td>22.4</td>\n",
       "      <td>13</td>\n",
       "      <td>E</td>\n",
       "    </tr>\n",
       "    <tr>\n",
       "      <th>5</th>\n",
       "      <td>M</td>\n",
       "      <td>15.6</td>\n",
       "      <td>17</td>\n",
       "      <td>D</td>\n",
       "    </tr>\n",
       "    <tr>\n",
       "      <th>6</th>\n",
       "      <td>M</td>\n",
       "      <td>25</td>\n",
       "      <td>15</td>\n",
       "      <td>E</td>\n",
       "    </tr>\n",
       "    <tr>\n",
       "      <th>7</th>\n",
       "      <td>F</td>\n",
       "      <td>21.8</td>\n",
       "      <td>12</td>\n",
       "      <td>E</td>\n",
       "    </tr>\n",
       "    <tr>\n",
       "      <th>8</th>\n",
       "      <td>F</td>\n",
       "      <td>30.5</td>\n",
       "      <td>10</td>\n",
       "      <td>A</td>\n",
       "    </tr>\n",
       "    <tr>\n",
       "      <th>9</th>\n",
       "      <td>M</td>\n",
       "      <td>25.4</td>\n",
       "      <td>10</td>\n",
       "      <td>E</td>\n",
       "    </tr>\n",
       "    <tr>\n",
       "      <th>10</th>\n",
       "      <td>F</td>\n",
       "      <td>15.6</td>\n",
       "      <td>14</td>\n",
       "      <td>D</td>\n",
       "    </tr>\n",
       "    <tr>\n",
       "      <th>11</th>\n",
       "      <td>F</td>\n",
       "      <td>23</td>\n",
       "      <td>20</td>\n",
       "      <td>E</td>\n",
       "    </tr>\n",
       "    <tr>\n",
       "      <th>12</th>\n",
       "      <td>M</td>\n",
       "      <td>19</td>\n",
       "      <td>11</td>\n",
       "      <td>E</td>\n",
       "    </tr>\n",
       "    <tr>\n",
       "      <th>13</th>\n",
       "      <td>F</td>\n",
       "      <td>22.7</td>\n",
       "      <td>12</td>\n",
       "      <td>A</td>\n",
       "    </tr>\n",
       "    <tr>\n",
       "      <th>14</th>\n",
       "      <td>F</td>\n",
       "      <td>11.9</td>\n",
       "      <td>14</td>\n",
       "      <td>E</td>\n",
       "    </tr>\n",
       "    <tr>\n",
       "      <th>15</th>\n",
       "      <td>F</td>\n",
       "      <td>15.8</td>\n",
       "      <td>20</td>\n",
       "      <td>A</td>\n",
       "    </tr>\n",
       "    <tr>\n",
       "      <th>16</th>\n",
       "      <td>F</td>\n",
       "      <td>20</td>\n",
       "      <td>14</td>\n",
       "      <td>D</td>\n",
       "    </tr>\n",
       "    <tr>\n",
       "      <th>17</th>\n",
       "      <td>F</td>\n",
       "      <td>16.2</td>\n",
       "      <td>10</td>\n",
       "      <td>A</td>\n",
       "    </tr>\n",
       "    <tr>\n",
       "      <th>18</th>\n",
       "      <td>M</td>\n",
       "      <td>23.4</td>\n",
       "      <td>12</td>\n",
       "      <td>E</td>\n",
       "    </tr>\n",
       "    <tr>\n",
       "      <th>19</th>\n",
       "      <td>F</td>\n",
       "      <td>16.5</td>\n",
       "      <td>16</td>\n",
       "      <td>A</td>\n",
       "    </tr>\n",
       "    <tr>\n",
       "      <th>20</th>\n",
       "      <td>F</td>\n",
       "      <td>10.2</td>\n",
       "      <td>13</td>\n",
       "      <td>E</td>\n",
       "    </tr>\n",
       "    <tr>\n",
       "      <th>21</th>\n",
       "      <td>M</td>\n",
       "      <td>11.5</td>\n",
       "      <td>10</td>\n",
       "      <td>D</td>\n",
       "    </tr>\n",
       "    <tr>\n",
       "      <th>22</th>\n",
       "      <td>F</td>\n",
       "      <td>13.2</td>\n",
       "      <td>12</td>\n",
       "      <td>A</td>\n",
       "    </tr>\n",
       "    <tr>\n",
       "      <th>23</th>\n",
       "      <td>F</td>\n",
       "      <td>14</td>\n",
       "      <td>12</td>\n",
       "      <td>D</td>\n",
       "    </tr>\n",
       "    <tr>\n",
       "      <th>24</th>\n",
       "      <td>M</td>\n",
       "      <td>13</td>\n",
       "      <td>19</td>\n",
       "      <td>D</td>\n",
       "    </tr>\n",
       "  </tbody>\n",
       "</table>\n",
       "</div>"
      ],
      "text/plain": [
       "   Gender Live Births Age at Treatment Etiologies\n",
       "0       F         9.4               19          E\n",
       "1       F        24.7               12          E\n",
       "2       F        19.2               15          E\n",
       "3       F          16               16          D\n",
       "4       M        22.4               13          E\n",
       "5       M        15.6               17          D\n",
       "6       M          25               15          E\n",
       "7       F        21.8               12          E\n",
       "8       F        30.5               10          A\n",
       "9       M        25.4               10          E\n",
       "10      F        15.6               14          D\n",
       "11      F          23               20          E\n",
       "12      M          19               11          E\n",
       "13      F        22.7               12          A\n",
       "14      F        11.9               14          E\n",
       "15      F        15.8               20          A\n",
       "16      F          20               14          D\n",
       "17      F        16.2               10          A\n",
       "18      M        23.4               12          E\n",
       "19      F        16.5               16          A\n",
       "20      F        10.2               13          E\n",
       "21      M        11.5               10          D\n",
       "22      F        13.2               12          A\n",
       "23      F          14               12          D\n",
       "24      M          13               19          D"
      ]
     },
     "execution_count": 74,
     "metadata": {},
     "output_type": "execute_result"
    }
   ],
   "source": [
    "\n",
    "#https://www.geeksforgeeks.org/different-ways-to-create-pandas-dataframe/\n",
    "\n",
    "\n",
    "import pandas as pd \n",
    "  \n",
    "# intialise data of lists. ,\n",
    "data = {'Gender':['F', 'F', 'F', 'F', 'M', 'M', 'M', 'F','F', 'M', 'F', 'F','M', 'F', 'F', 'F', 'F', 'F','M', 'F', 'F', 'M', 'F', 'F','M'], \n",
    "        'Live Births':['9.4', '24.7', '19.2', '16', '22.4', '15.6', '25', '21.8', '30.5', '25.4', '15.6', '23', '19', '22.7', '11.9', '15.8', '20', '16.2', '23.4', '16.5', '10.2', '11.5', '13.2', '14', '13'],\n",
    "        'Age at Treatment':['19', '12', '15', '16', '13', '17', '15', '12', '10', '10', '14', '20','11', '12', '14', '20', '14', '10', '12', '16', '13', '10', '12', '12', '19'],\n",
    "        'Etiologies':['E', 'E', 'E', 'D', 'E', 'D', 'E', 'E', 'A', 'E', 'D', 'E', 'E', 'A', 'E', 'A', 'D', 'A', 'E', 'A', 'E', 'D', 'A', 'D', 'D']\n",
    "       }      \n",
    "\n",
    "\n",
    "# Create DataFrame \n",
    "df = pd.DataFrame(data) \n",
    "  \n",
    "# Print the output. \n",
    "df \n"
   ]
  },
  {
   "cell_type": "code",
   "execution_count": 75,
   "metadata": {},
   "outputs": [
    {
     "name": "stdout",
     "output_type": "stream",
     "text": [
      "<class 'pandas.core.frame.DataFrame'>\n",
      "RangeIndex: 25 entries, 0 to 24\n",
      "Data columns (total 4 columns):\n",
      "Gender              25 non-null object\n",
      "Live Births         25 non-null object\n",
      "Age at Treatment    25 non-null object\n",
      "Etiologies          25 non-null object\n",
      "dtypes: object(4)\n",
      "memory usage: 880.0+ bytes\n"
     ]
    }
   ],
   "source": [
    "df.info()\n"
   ]
  },
  {
   "cell_type": "code",
   "execution_count": 76,
   "metadata": {},
   "outputs": [
    {
     "data": {
      "text/html": [
       "<div>\n",
       "<style scoped>\n",
       "    .dataframe tbody tr th:only-of-type {\n",
       "        vertical-align: middle;\n",
       "    }\n",
       "\n",
       "    .dataframe tbody tr th {\n",
       "        vertical-align: top;\n",
       "    }\n",
       "\n",
       "    .dataframe thead th {\n",
       "        text-align: right;\n",
       "    }\n",
       "</style>\n",
       "<table border=\"1\" class=\"dataframe\">\n",
       "  <thead>\n",
       "    <tr style=\"text-align: right;\">\n",
       "      <th></th>\n",
       "      <th>Gender</th>\n",
       "      <th>Live Births</th>\n",
       "      <th>Age at Treatment</th>\n",
       "      <th>Etiologies</th>\n",
       "    </tr>\n",
       "  </thead>\n",
       "  <tbody>\n",
       "    <tr>\n",
       "      <th>count</th>\n",
       "      <td>25</td>\n",
       "      <td>25</td>\n",
       "      <td>25</td>\n",
       "      <td>25</td>\n",
       "    </tr>\n",
       "    <tr>\n",
       "      <th>unique</th>\n",
       "      <td>2</td>\n",
       "      <td>24</td>\n",
       "      <td>10</td>\n",
       "      <td>3</td>\n",
       "    </tr>\n",
       "    <tr>\n",
       "      <th>top</th>\n",
       "      <td>F</td>\n",
       "      <td>15.6</td>\n",
       "      <td>12</td>\n",
       "      <td>E</td>\n",
       "    </tr>\n",
       "    <tr>\n",
       "      <th>freq</th>\n",
       "      <td>17</td>\n",
       "      <td>2</td>\n",
       "      <td>6</td>\n",
       "      <td>12</td>\n",
       "    </tr>\n",
       "  </tbody>\n",
       "</table>\n",
       "</div>"
      ],
      "text/plain": [
       "       Gender Live Births Age at Treatment Etiologies\n",
       "count      25          25               25         25\n",
       "unique      2          24               10          3\n",
       "top         F        15.6               12          E\n",
       "freq       17           2                6         12"
      ]
     },
     "execution_count": 76,
     "metadata": {},
     "output_type": "execute_result"
    }
   ],
   "source": [
    "df.describe()"
   ]
  },
  {
   "cell_type": "code",
   "execution_count": 61,
   "metadata": {},
   "outputs": [
    {
     "data": {
      "text/plain": [
       "Gender             NaN\n",
       "Live Births        NaN\n",
       "Etiologies         NaN\n",
       "Age at Treatment   NaN\n",
       "dtype: float64"
      ]
     },
     "execution_count": 61,
     "metadata": {},
     "output_type": "execute_result"
    }
   ],
   "source": [
    "df.mean()"
   ]
  },
  {
   "cell_type": "code",
   "execution_count": 62,
   "metadata": {},
   "outputs": [
    {
     "ename": "SyntaxError",
     "evalue": "invalid syntax (<ipython-input-62-ac54cfd7d895>, line 5)",
     "output_type": "error",
     "traceback": [
      "\u001b[1;36m  File \u001b[1;32m\"<ipython-input-62-ac54cfd7d895>\"\u001b[1;36m, line \u001b[1;32m5\u001b[0m\n\u001b[1;33m    'Age at Treatment':['19', '12', '15', '16', '13', '17', '15', '12', '10', '10', '14', '20','11', '12', '14', '20', '14', '10', '12', '16', '13', '10', '12', '12', '19'],\u001b[0m\n\u001b[1;37m                     ^\u001b[0m\n\u001b[1;31mSyntaxError\u001b[0m\u001b[1;31m:\u001b[0m invalid syntax\n"
     ]
    }
   ],
   "source": [
    "#https://www.geeksforgeeks.org/different-ways-to-create-pandas-dataframe/\n",
    "import pandas as pd\n",
    "data = {'Gender':['F', 'F', 'F', 'F', 'M', 'M', 'M', 'F','F', 'M', 'F', 'F','M', 'F', 'F', 'F', 'F', 'F','M', 'F', 'F', 'M', 'F', 'F','M'], \n",
    "        'Live Births':['9.4', '24.7', '19.2', '16', '22.4', '15.6', '25', '21.8', '30.5', '25.4', '15.6', '23', '19', '22.7', '11.9', '15.8', '20', '16.2', '23.4', '16.5', '10.2', '11.5', '13.2', '14', '13']\n",
    "        'Age at Treatment':['19', '12', '15', '16', '13', '17', '15', '12', '10', '10', '14', '20','11', '12', '14', '20', '14', '10', '12', '16', '13', '10', '12', '12', '19'],\n",
    "        'Etiologies':['E', 'E', 'E', 'D', 'E', 'D', 'E', 'E', 'A', 'E', 'D', 'E', 'E', 'A', 'E', 'A', 'D', 'A', 'E', 'A', 'E', 'D', 'A', 'D', 'D']}\n",
    "df = pd.DataFrame(data)\n",
    "# Print the output. \n",
    "df \n",
    "\n",
    "#df https://www.geeksforgeeks.org/different-ways-to-create-pandas-dataframe/\n",
    "\n",
    "            "
   ]
  },
  {
   "cell_type": "code",
   "execution_count": 63,
   "metadata": {},
   "outputs": [
    {
     "ename": "SyntaxError",
     "evalue": "invalid syntax (<ipython-input-63-3b614ab7d152>, line 3)",
     "output_type": "error",
     "traceback": [
      "\u001b[1;36m  File \u001b[1;32m\"<ipython-input-63-3b614ab7d152>\"\u001b[1;36m, line \u001b[1;32m3\u001b[0m\n\u001b[1;33m    https://dziganto.github.io/data%20science/eda/machine%20learning/python/simulated%20data/Simulated-Datasets-for-Faster-ML-Understanding/\u001b[0m\n\u001b[1;37m           ^\u001b[0m\n\u001b[1;31mSyntaxError\u001b[0m\u001b[1;31m:\u001b[0m invalid syntax\n"
     ]
    }
   ],
   "source": [
    "# References\n",
    "\n",
    "https://dziganto.github.io/data%20science/eda/machine%20learning/python/simulated%20data/Simulated-Datasets-for-Faster-ML-Understanding/\n",
    "\n",
    "https://www.geeksforgeeks.org/different-ways-to-create-pandas-dataframe/\n",
    "\n",
    "http://dept.stat.lsa.umich.edu/~kshedden/Python-Workshop/stats_calculations.html"
   ]
  },
  {
   "cell_type": "code",
   "execution_count": null,
   "metadata": {},
   "outputs": [],
   "source": []
  },
  {
   "cell_type": "code",
   "execution_count": null,
   "metadata": {},
   "outputs": [],
   "source": []
  },
  {
   "cell_type": "code",
   "execution_count": null,
   "metadata": {},
   "outputs": [],
   "source": []
  }
 ],
 "metadata": {
  "kernelspec": {
   "display_name": "Python 3",
   "language": "python",
   "name": "python3"
  },
  "language_info": {
   "codemirror_mode": {
    "name": "ipython",
    "version": 3
   },
   "file_extension": ".py",
   "mimetype": "text/x-python",
   "name": "python",
   "nbconvert_exporter": "python",
   "pygments_lexer": "ipython3",
   "version": "3.7.3"
  }
 },
 "nbformat": 4,
 "nbformat_minor": 2
}
