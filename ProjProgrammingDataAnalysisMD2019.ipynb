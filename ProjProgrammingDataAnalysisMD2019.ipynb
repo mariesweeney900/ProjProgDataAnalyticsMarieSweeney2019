{
 "cells": [
  {
   "cell_type": "code",
   "execution_count": 102,
   "metadata": {},
   "outputs": [],
   "source": [
    "import numpy as np\n",
    "import pandas as pd \n",
    "import seaborn as sns"
   ]
  },
  {
   "cell_type": "markdown",
   "metadata": {},
   "source": [
    "124,404 babies were assessed for the purpose for the study over a timeframe of 15 years. Congenital hypothyroidism occurs in  \n",
    "1:2759 live births with a female to male ratio of occurrance at 1.8:1. The main etiologies of CH are dyshormonogenesis (17%), athyreosis (45%) and by thyroid ectopia (24%). The mean age for the commencement of treatment of infants diagnosed in the screening program was 10.3 days.\n"
   ]
  },
  {
   "cell_type": "markdown",
   "metadata": {},
   "source": [
    "# Gender\n"
   ]
  },
  {
   "cell_type": "code",
   "execution_count": 110,
   "metadata": {},
   "outputs": [
    {
     "name": "stdout",
     "output_type": "stream",
     "text": [
      "['M' 'F' 'F' 'M' 'F' 'F' 'F' 'M' 'F' 'F' 'M' 'M' 'F' 'F' 'M' 'F' 'M' 'F'\n",
      " 'M' 'M' 'F' 'F' 'F' 'M' 'F' 'F' 'F' 'F' 'F' 'F' 'M' 'F' 'M' 'F' 'F' 'F'\n",
      " 'F' 'M' 'F' 'F' 'F' 'M' 'F' 'M' 'F' 'M' 'F' 'M' 'F' 'F' 'F' 'F' 'M' 'F'\n",
      " 'F' 'M' 'M' 'F' 'M' 'F' 'F' 'M' 'F' 'F' 'F' 'F' 'F' 'F' 'F' 'M' 'F' 'F'\n",
      " 'F' 'F' 'F' 'F' 'M' 'M' 'M' 'F' 'F' 'F' 'F' 'F' 'F' 'F' 'F' 'F' 'F' 'F'\n",
      " 'F' 'F' 'F' 'M' 'F' 'F' 'M' 'F' 'F' 'F']\n"
     ]
    }
   ],
   "source": [
    "#Gender of the ratio of females to males with CH in the study had an incidence of 2:1 meaning that as a female, one's probablity of having CH is twice that of a male. Adapted from https://dziganto.github.io/data%20science/eda/machine%20learning/python/simulated%20data/Simulated-Datasets-for-Faster-ML-Understanding/\n",
    "\n",
    "\n",
    "# reproducibility\n",
    "np.random.seed(10)\n",
    "\n",
    "# number\n",
    "num = 100\n",
    "\n",
    "# feature setup\n",
    "\n",
    "gender = np.random.choice(['F', 'M'], num, p=[0.67, 0.33])\n",
    "print (gender)\n"
   ]
  },
  {
   "cell_type": "code",
   "execution_count": 114,
   "metadata": {},
   "outputs": [
    {
     "name": "stdout",
     "output_type": "stream",
     "text": [
      "['NCH' 'NCH' 'NCH' 'NCH' 'NCH' 'NCH' 'NCH' 'NCH' 'NCH' 'NCH' 'NCH' 'NCH'\n",
      " 'NCH' 'NCH' 'NCH' 'NCH' 'NCH' 'NCH' 'NCH' 'NCH' 'NCH' 'NCH' 'NCH' 'NCH'\n",
      " 'NCH' 'NCH' 'NCH' 'NCH' 'NCH' 'NCH' 'NCH' 'NCH' 'NCH' 'NCH' 'NCH' 'NCH'\n",
      " 'NCH' 'NCH' 'NCH' 'NCH' 'NCH' 'NCH' 'NCH' 'NCH' 'NCH' 'NCH' 'NCH' 'NCH'\n",
      " 'NCH' 'NCH' 'NCH' 'NCH' 'NCH' 'NCH' 'NCH' 'NCH' 'NCH' 'NCH' 'NCH' 'NCH'\n",
      " 'NCH' 'NCH' 'NCH' 'NCH' 'NCH' 'NCH' 'NCH' 'NCH' 'NCH' 'NCH' 'NCH' 'NCH'\n",
      " 'NCH' 'NCH' 'NCH' 'NCH' 'NCH' 'NCH' 'NCH' 'NCH' 'NCH' 'NCH' 'NCH' 'NCH'\n",
      " 'NCH' 'NCH' 'NCH' 'NCH' 'NCH' 'NCH' 'NCH' 'NCH' 'NCH' 'NCH' 'NCH' 'NCH'\n",
      " 'NCH' 'NCH' 'NCH' 'NCH']\n"
     ]
    }
   ],
   "source": [
    "#Incidence of Live Births 1:2759, meaning that for every one birth of a child with CH, a child without CH is born. \n",
    "\n",
    "# reproducibility\n",
    "np.random.seed(10)\n",
    "num = 100   \n",
    "livebirth = np.random.choice(['CH', 'NCH'], num, p=[0.00036, 0.99964])   \n",
    "print (livebirth)"
   ]
  },
  {
   "cell_type": "markdown",
   "metadata": {},
   "source": [
    "# Etiologies"
   ]
  },
  {
   "cell_type": "code",
   "execution_count": null,
   "metadata": {},
   "outputs": [],
   "source": [
    "etiology = np.random.choice(['CH, NCH'], num, p=[.45, .24, .17])"
   ]
  },
  {
   "cell_type": "markdown",
   "metadata": {},
   "source": [
    "# References\n",
    "\n",
    "https://dziganto.github.io/data%20science/eda/machine%20learning/python/simulated%20data/Simulated-Datasets-for-Faster-ML-Understanding/\n",
    "\n",
    "\n",
    "\n"
   ]
  },
  {
   "cell_type": "code",
   "execution_count": null,
   "metadata": {},
   "outputs": [],
   "source": []
  },
  {
   "cell_type": "code",
   "execution_count": null,
   "metadata": {},
   "outputs": [],
   "source": []
  }
 ],
 "metadata": {
  "kernelspec": {
   "display_name": "Python 3",
   "language": "python",
   "name": "python3"
  },
  "language_info": {
   "codemirror_mode": {
    "name": "ipython",
    "version": 3
   },
   "file_extension": ".py",
   "mimetype": "text/x-python",
   "name": "python",
   "nbconvert_exporter": "python",
   "pygments_lexer": "ipython3",
   "version": "3.7.3"
  }
 },
 "nbformat": 4,
 "nbformat_minor": 2
}
